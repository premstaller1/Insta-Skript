{
 "cells": [
  {
   "cell_type": "code",
   "execution_count": 1,
   "metadata": {},
   "outputs": [],
   "source": [
    "import os\n",
    "import pandas as pd\n",
    "import requests\n",
    "\n",
    "\n",
    "df = pd.read_csv('submission/Submission.csv')\n",
    "df.head()\n",
    "# Define the output base directory\n",
    "output_base_dir = 'data/posts/'\n",
    "\n",
    "# Create the output base directory if it doesn't exist\n",
    "os.makedirs(output_base_dir, exist_ok=True)\n",
    "\n",
    "# Read the CSV file\n"
   ]
  },
  {
   "cell_type": "code",
   "execution_count": 3,
   "metadata": {},
   "outputs": [
    {
     "name": "stdout",
     "output_type": "stream",
     "text": [
      "Script completed successfully.\n"
     ]
    }
   ],
   "source": [
    "\n",
    "def sanitize_filename(filename):\n",
    "    # Define invalid characters\n",
    "    invalid_chars = '<>:\"/\\\\|?*'\n",
    "    # Replace each invalid character with an underscore\n",
    "    for char in invalid_chars:\n",
    "        filename = filename.replace(char, '_')\n",
    "    return filename\n",
    "\n",
    "# Load your CSV file into a DataFrame (assuming df is your DataFrame)\n",
    "# df = pd.read_csv('your_csv_file.csv') # Uncomment and update the file path as needed\n",
    "\n",
    "# Base directory where projects will be stored\n",
    "output_base_dir = 'data/newpost'\n",
    "\n",
    "# Create the base directory if it doesn't exist\n",
    "os.makedirs(output_base_dir, exist_ok=True)\n",
    "\n",
    "# Iterate over each row in the CSV file\n",
    "for index, row in df.iterrows():\n",
    "    project_name = row['Project Name']\n",
    "    description = row['Project Description']\n",
    "    designer = row[\"Instagram @\"]\n",
    "    visuals_links = row['Upload your Visuals (max. 10!)']\n",
    "    support = row[\"Support Frabiché\"]\n",
    "    company = row[\"Company Name\"]\n",
    "    \n",
    "    # Sanitize the project name\n",
    "    sanitized_project_name = sanitize_filename(project_name)\n",
    "    \n",
    "    # Create a directory for each project and name it using the project name and index\n",
    "    project_dir = os.path.join(output_base_dir, f\"{sanitized_project_name}_{index+1}\")\n",
    "    os.makedirs(project_dir, exist_ok=True)\n",
    "    \n",
    "    # Save project name and description in a text file\n",
    "    with open(os.path.join(project_dir, 'details.txt'), 'w', encoding='utf-8') as file:\n",
    "        file.write(f\"Project Name: {project_name}\\n\")\n",
    "        file.write(f\"Description: {description}\\n\")\n",
    "        file.write(f\"Designer: {designer}\\n\")\n",
    "        file.write(f\"Company: {company}\\n\")\n",
    "        file.write(f\"Support: {support}\\n\")\n",
    "    \n",
    "    # Download images\n",
    "    if pd.notna(visuals_links):\n",
    "        urls = visuals_links.split(';')  # Split URLs by semicolon\n",
    "        for i, url in enumerate(urls):\n",
    "            url = url.strip()\n",
    "            try:\n",
    "                response = requests.get(url)\n",
    "                if response.status_code == 200:\n",
    "                    with open(os.path.join(project_dir, f'image_{i+1}.jpg'), 'wb') as img_file:\n",
    "                        img_file.write(response.content)\n",
    "                else:\n",
    "                    print(f\"Failed to download image from {url}\")\n",
    "            except Exception as e:\n",
    "                print(f\"Error downloading image from {url}: {e}\")\n",
    "\n",
    "print(\"Script completed successfully.\")"
   ]
  },
  {
   "cell_type": "code",
   "execution_count": null,
   "metadata": {},
   "outputs": [],
   "source": []
  }
 ],
 "metadata": {
  "kernelspec": {
   "display_name": "Python 3",
   "language": "python",
   "name": "python3"
  },
  "language_info": {
   "codemirror_mode": {
    "name": "ipython",
    "version": 3
   },
   "file_extension": ".py",
   "mimetype": "text/x-python",
   "name": "python",
   "nbconvert_exporter": "python",
   "pygments_lexer": "ipython3",
   "version": "3.12.4"
  }
 },
 "nbformat": 4,
 "nbformat_minor": 2
}
